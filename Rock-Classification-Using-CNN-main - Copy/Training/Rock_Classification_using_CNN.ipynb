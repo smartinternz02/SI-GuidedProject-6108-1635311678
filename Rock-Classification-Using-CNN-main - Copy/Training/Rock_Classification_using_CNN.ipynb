{
 "cells": [
  {
   "cell_type": "markdown",
   "metadata": {},
   "source": [
    "# Detecting Building defects using CNN"
   ]
  },
  {
   "cell_type": "markdown",
   "metadata": {},
   "source": [
    "### Importing Neccessary Libraries"
   ]
  },
  {
   "cell_type": "code",
   "execution_count": 5,
   "metadata": {},
   "outputs": [],
   "source": [
    "import numpy as np#used for numerical analysis\n",
    "import tensorflow #open source used for both ML and DL for computation\n",
    "from tensorflow.keras.models import Sequential #it is a plain stack of layers\n",
    "from tensorflow.keras import layers #A layer consists of a tensor-in tensor-out computation function\n",
    "#Dense layer is the regular deeply connected neural network layer\n",
    "from tensorflow.keras.layers import Dense,Flatten\n",
    "#Faltten-used fot flattening the input or change the dimension\n",
    "from tensorflow.keras.layers import Conv2D,MaxPooling2D #Convolutional layer\n",
    "#MaxPooling2D-for downsampling the image\n",
    "from keras.preprocessing.image import ImageDataGenerator\n"
   ]
  },
  {
   "cell_type": "markdown",
   "metadata": {},
   "source": [
    "### Image Data Agumentation"
   ]
  },
  {
   "cell_type": "code",
   "execution_count": 6,
   "metadata": {},
   "outputs": [],
   "source": [
    "#setting parameter for Image Data agumentation to the training data\n",
    "train_datagen = ImageDataGenerator(rescale=1./255,shear_range=0.2,zoom_range=0.2,horizontal_flip=True)\n",
    "#Image Data agumentation to the testing data\n",
    "test_datagen=ImageDataGenerator(rescale=1./255)"
   ]
  },
  {
   "cell_type": "code",
   "execution_count": null,
   "metadata": {},
   "outputs": [],
   "source": []
  },
  {
   "cell_type": "markdown",
   "metadata": {},
   "source": [
    "### Loading our data and performing data agumentation"
   ]
  },
  {
   "cell_type": "code",
   "execution_count": 7,
   "metadata": {},
   "outputs": [
    {
     "name": "stdout",
     "output_type": "stream",
     "text": [
      "Found 700 images belonging to 5 classes.\n",
      "Found 300 images belonging to 5 classes.\n"
     ]
    }
   ],
   "source": [
    "#performing data agumentation to train data\n",
    "x_train = train_datagen.flow_from_directory(r'C:\\Users\\Jayasurya\\Desktop\\Rock-Classification-Using-CNN-main\\train_set',\n",
    "    target_size=(64, 64),batch_size=5,color_mode='rgb',class_mode='categorical')\n",
    "#performing data agumentation to test data\n",
    "x_test = test_datagen.flow_from_directory(r'C:\\Users\\Jayasurya\\Desktop\\Rock-Classification-Using-CNN-main\\test_set',\n",
    "    target_size=(64, 64),batch_size=5,color_mode='rgb',class_mode='categorical') "
   ]
  },
  {
   "cell_type": "code",
   "execution_count": 8,
   "metadata": {},
   "outputs": [
    {
     "name": "stdout",
     "output_type": "stream",
     "text": [
      "{'blue calcite': 0, 'limestone': 1, 'marble': 2, 'olivine': 3, 'red crystal': 4}\n"
     ]
    }
   ],
   "source": [
    "print(x_train.class_indices)#checking the number of classes"
   ]
  },
  {
   "cell_type": "code",
   "execution_count": 9,
   "metadata": {},
   "outputs": [
    {
     "name": "stdout",
     "output_type": "stream",
     "text": [
      "{'blue calcite': 0, 'limestone': 1, 'marble': 2, 'olivine': 3, 'red crystal': 4}\n"
     ]
    }
   ],
   "source": [
    "print(x_test.class_indices)#checking the number of classes"
   ]
  },
  {
   "cell_type": "code",
   "execution_count": 10,
   "metadata": {},
   "outputs": [
    {
     "data": {
      "text/plain": [
       "Counter({0: 140, 1: 140, 2: 140, 3: 140, 4: 140})"
      ]
     },
     "execution_count": 10,
     "metadata": {},
     "output_type": "execute_result"
    }
   ],
   "source": [
    "from collections import Counter as c\n",
    "c(x_train .labels)"
   ]
  },
  {
   "cell_type": "markdown",
   "metadata": {},
   "source": [
    "### Creating the model"
   ]
  },
  {
   "cell_type": "code",
   "execution_count": 11,
   "metadata": {},
   "outputs": [],
   "source": [
    "# Initializing the CNN\n",
    "classifier = Sequential()\n",
    "\n",
    "# First convolution layer and pooling\n",
    "classifier.add(Conv2D(32, (3, 3), input_shape=(64, 64, 3), activation='relu'))\n",
    "classifier.add(MaxPooling2D(pool_size=(2, 2)))\n",
    "# Second convolution layer and pooling\n",
    "classifier.add(Conv2D(32, (3, 3), activation='relu'))\n",
    "# input_shape is going to be the pooled feature maps from the previous convolution layer\n",
    "classifier.add(MaxPooling2D(pool_size=(2, 2)))\n",
    "\n",
    "# Flattening the layers\n",
    "classifier.add(Flatten())\n",
    "\n",
    "# Adding a fully connected layer\n",
    "classifier.add(Dense(units=128, activation='relu'))\n",
    "classifier.add(Dense(units=5, activation='softmax')) # softmax for more than 2\n",
    "\n"
   ]
  },
  {
   "cell_type": "code",
   "execution_count": 12,
   "metadata": {},
   "outputs": [
    {
     "name": "stdout",
     "output_type": "stream",
     "text": [
      "Model: \"sequential\"\n",
      "_________________________________________________________________\n",
      "Layer (type)                 Output Shape              Param #   \n",
      "=================================================================\n",
      "conv2d (Conv2D)              (None, 62, 62, 32)        896       \n",
      "_________________________________________________________________\n",
      "max_pooling2d (MaxPooling2D) (None, 31, 31, 32)        0         \n",
      "_________________________________________________________________\n",
      "conv2d_1 (Conv2D)            (None, 29, 29, 32)        9248      \n",
      "_________________________________________________________________\n",
      "max_pooling2d_1 (MaxPooling2 (None, 14, 14, 32)        0         \n",
      "_________________________________________________________________\n",
      "flatten (Flatten)            (None, 6272)              0         \n",
      "_________________________________________________________________\n",
      "dense (Dense)                (None, 128)               802944    \n",
      "_________________________________________________________________\n",
      "dense_1 (Dense)              (None, 5)                 645       \n",
      "=================================================================\n",
      "Total params: 813,733\n",
      "Trainable params: 813,733\n",
      "Non-trainable params: 0\n",
      "_________________________________________________________________\n"
     ]
    }
   ],
   "source": [
    "classifier.summary()#summary of our model"
   ]
  },
  {
   "cell_type": "markdown",
   "metadata": {},
   "source": [
    "### Compiling the model"
   ]
  },
  {
   "cell_type": "code",
   "execution_count": 13,
   "metadata": {},
   "outputs": [],
   "source": [
    "# Compiling the CNN\n",
    "# categorical_crossentropy for more than 2\n",
    "classifier.compile(optimizer='adam', loss='categorical_crossentropy', metrics=['accuracy']) "
   ]
  },
  {
   "cell_type": "markdown",
   "metadata": {},
   "source": [
    "## Fitting the model"
   ]
  },
  {
   "cell_type": "code",
   "execution_count": 14,
   "metadata": {
    "scrolled": true
   },
   "outputs": [
    {
     "name": "stderr",
     "output_type": "stream",
     "text": [
      "C:\\Users\\Jayasurya\\AppData\\Local\\Programs\\Python\\Python39\\lib\\site-packages\\keras\\engine\\training.py:1972: UserWarning: `Model.fit_generator` is deprecated and will be removed in a future version. Please use `Model.fit`, which supports generators.\n",
      "  warnings.warn('`Model.fit_generator` is deprecated and '\n"
     ]
    },
    {
     "name": "stdout",
     "output_type": "stream",
     "text": [
      "Epoch 1/50\n",
      "140/140 [==============================] - 7s 45ms/step - loss: 1.0150 - accuracy: 0.5571 - val_loss: 0.9312 - val_accuracy: 0.6500\n",
      "Epoch 2/50\n",
      "140/140 [==============================] - 5s 32ms/step - loss: 0.6016 - accuracy: 0.7514 - val_loss: 0.6745 - val_accuracy: 0.7267\n",
      "Epoch 3/50\n",
      "140/140 [==============================] - 5s 33ms/step - loss: 0.4424 - accuracy: 0.8314 - val_loss: 0.8905 - val_accuracy: 0.5933\n",
      "Epoch 4/50\n",
      "140/140 [==============================] - 6s 42ms/step - loss: 0.4195 - accuracy: 0.8457 - val_loss: 0.4955 - val_accuracy: 0.8167\n",
      "Epoch 5/50\n",
      "140/140 [==============================] - 8s 58ms/step - loss: 0.3807 - accuracy: 0.8286 - val_loss: 0.5258 - val_accuracy: 0.7500\n",
      "Epoch 6/50\n",
      "140/140 [==============================] - 8s 58ms/step - loss: 0.3623 - accuracy: 0.8600 - val_loss: 0.5342 - val_accuracy: 0.8233\n",
      "Epoch 7/50\n",
      "140/140 [==============================] - 7s 51ms/step - loss: 0.3078 - accuracy: 0.8771 - val_loss: 0.3230 - val_accuracy: 0.9033\n",
      "Epoch 8/50\n",
      "140/140 [==============================] - 7s 50ms/step - loss: 0.3383 - accuracy: 0.8614 - val_loss: 0.4254 - val_accuracy: 0.8733\n",
      "Epoch 9/50\n",
      "140/140 [==============================] - 7s 51ms/step - loss: 0.3237 - accuracy: 0.8686 - val_loss: 0.3972 - val_accuracy: 0.8800\n",
      "Epoch 10/50\n",
      "140/140 [==============================] - 7s 51ms/step - loss: 0.2485 - accuracy: 0.8943 - val_loss: 0.3161 - val_accuracy: 0.9033\n",
      "Epoch 11/50\n",
      "140/140 [==============================] - 7s 50ms/step - loss: 0.2347 - accuracy: 0.9129 - val_loss: 0.3693 - val_accuracy: 0.8867\n",
      "Epoch 12/50\n",
      "140/140 [==============================] - 6s 44ms/step - loss: 0.3036 - accuracy: 0.8829 - val_loss: 0.6113 - val_accuracy: 0.6967\n",
      "Epoch 13/50\n",
      "140/140 [==============================] - 6s 44ms/step - loss: 0.2920 - accuracy: 0.8714 - val_loss: 0.4367 - val_accuracy: 0.8867\n",
      "Epoch 14/50\n",
      "140/140 [==============================] - 7s 48ms/step - loss: 0.2208 - accuracy: 0.9071 - val_loss: 0.4097 - val_accuracy: 0.8800\n",
      "Epoch 15/50\n",
      "140/140 [==============================] - 8s 59ms/step - loss: 0.2278 - accuracy: 0.9071 - val_loss: 0.7394 - val_accuracy: 0.8600\n",
      "Epoch 16/50\n",
      "140/140 [==============================] - 7s 51ms/step - loss: 0.2459 - accuracy: 0.9057 - val_loss: 0.4153 - val_accuracy: 0.8933\n",
      "Epoch 17/50\n",
      "140/140 [==============================] - 7s 52ms/step - loss: 0.2173 - accuracy: 0.9186 - val_loss: 0.4139 - val_accuracy: 0.8900\n",
      "Epoch 18/50\n",
      "140/140 [==============================] - 7s 49ms/step - loss: 0.1719 - accuracy: 0.9271 - val_loss: 0.5078 - val_accuracy: 0.8000\n",
      "Epoch 19/50\n",
      "140/140 [==============================] - 7s 50ms/step - loss: 0.2220 - accuracy: 0.9029 - val_loss: 0.8878 - val_accuracy: 0.7600\n",
      "Epoch 20/50\n",
      "140/140 [==============================] - 7s 48ms/step - loss: 0.1928 - accuracy: 0.9186 - val_loss: 0.7709 - val_accuracy: 0.8533\n",
      "Epoch 21/50\n",
      "140/140 [==============================] - 7s 52ms/step - loss: 0.2336 - accuracy: 0.9071 - val_loss: 0.7529 - val_accuracy: 0.8033\n",
      "Epoch 22/50\n",
      "140/140 [==============================] - 7s 49ms/step - loss: 0.2191 - accuracy: 0.9157 - val_loss: 0.4915 - val_accuracy: 0.8967\n",
      "Epoch 23/50\n",
      "140/140 [==============================] - 7s 49ms/step - loss: 0.1876 - accuracy: 0.9271 - val_loss: 0.5568 - val_accuracy: 0.8700\n",
      "Epoch 24/50\n",
      "140/140 [==============================] - 7s 50ms/step - loss: 0.2343 - accuracy: 0.9014 - val_loss: 0.6697 - val_accuracy: 0.7867\n",
      "Epoch 25/50\n",
      "140/140 [==============================] - 7s 50ms/step - loss: 0.1890 - accuracy: 0.9286 - val_loss: 0.4115 - val_accuracy: 0.9200\n",
      "Epoch 26/50\n",
      "140/140 [==============================] - 7s 49ms/step - loss: 0.1347 - accuracy: 0.9486 - val_loss: 0.4761 - val_accuracy: 0.9067\n",
      "Epoch 27/50\n",
      "140/140 [==============================] - 7s 48ms/step - loss: 0.1357 - accuracy: 0.9400 - val_loss: 0.5612 - val_accuracy: 0.8833\n",
      "Epoch 28/50\n",
      "140/140 [==============================] - 7s 49ms/step - loss: 0.1677 - accuracy: 0.9486 - val_loss: 0.7251 - val_accuracy: 0.8133\n",
      "Epoch 29/50\n",
      "140/140 [==============================] - 7s 49ms/step - loss: 0.2247 - accuracy: 0.9171 - val_loss: 0.6944 - val_accuracy: 0.8700\n",
      "Epoch 30/50\n",
      "140/140 [==============================] - 7s 48ms/step - loss: 0.1547 - accuracy: 0.9429 - val_loss: 0.9949 - val_accuracy: 0.8400\n",
      "Epoch 31/50\n",
      "140/140 [==============================] - 7s 51ms/step - loss: 0.1884 - accuracy: 0.9214 - val_loss: 0.5606 - val_accuracy: 0.9133\n",
      "Epoch 32/50\n",
      "140/140 [==============================] - 7s 48ms/step - loss: 0.1067 - accuracy: 0.9557 - val_loss: 0.6043 - val_accuracy: 0.8933\n",
      "Epoch 33/50\n",
      "140/140 [==============================] - 7s 49ms/step - loss: 0.1257 - accuracy: 0.9500 - val_loss: 0.5273 - val_accuracy: 0.8800\n",
      "Epoch 34/50\n",
      "140/140 [==============================] - 7s 49ms/step - loss: 0.1200 - accuracy: 0.9529 - val_loss: 0.8017 - val_accuracy: 0.8867\n",
      "Epoch 35/50\n",
      "140/140 [==============================] - 7s 49ms/step - loss: 0.1904 - accuracy: 0.9343 - val_loss: 0.8043 - val_accuracy: 0.8533\n",
      "Epoch 36/50\n",
      "140/140 [==============================] - 7s 47ms/step - loss: 0.1113 - accuracy: 0.9600 - val_loss: 0.8332 - val_accuracy: 0.8800\n",
      "Epoch 37/50\n",
      "140/140 [==============================] - 7s 49ms/step - loss: 0.1232 - accuracy: 0.9543 - val_loss: 0.6890 - val_accuracy: 0.8867\n",
      "Epoch 38/50\n",
      "140/140 [==============================] - 7s 48ms/step - loss: 0.0994 - accuracy: 0.9586 - val_loss: 0.6464 - val_accuracy: 0.8767\n",
      "Epoch 39/50\n",
      "140/140 [==============================] - 7s 50ms/step - loss: 0.1113 - accuracy: 0.9586 - val_loss: 0.7644 - val_accuracy: 0.8700\n",
      "Epoch 40/50\n",
      "140/140 [==============================] - 7s 48ms/step - loss: 0.1374 - accuracy: 0.9443 - val_loss: 0.6382 - val_accuracy: 0.8733\n",
      "Epoch 41/50\n",
      "140/140 [==============================] - 7s 48ms/step - loss: 0.0967 - accuracy: 0.9586 - val_loss: 3.2786 - val_accuracy: 0.7133\n",
      "Epoch 42/50\n",
      "140/140 [==============================] - 7s 50ms/step - loss: 0.2401 - accuracy: 0.9414 - val_loss: 0.7078 - val_accuracy: 0.8833\n",
      "Epoch 43/50\n",
      "140/140 [==============================] - 7s 49ms/step - loss: 0.1050 - accuracy: 0.9571 - val_loss: 0.5658 - val_accuracy: 0.8967\n",
      "Epoch 44/50\n",
      "140/140 [==============================] - 7s 50ms/step - loss: 0.1327 - accuracy: 0.9471 - val_loss: 0.5896 - val_accuracy: 0.8833\n",
      "Epoch 45/50\n",
      "140/140 [==============================] - 7s 49ms/step - loss: 0.0822 - accuracy: 0.9686 - val_loss: 0.7939 - val_accuracy: 0.8800\n",
      "Epoch 46/50\n",
      "140/140 [==============================] - 7s 49ms/step - loss: 0.1181 - accuracy: 0.9529 - val_loss: 0.5761 - val_accuracy: 0.8867\n",
      "Epoch 47/50\n",
      "140/140 [==============================] - 7s 49ms/step - loss: 0.0854 - accuracy: 0.9629 - val_loss: 0.6624 - val_accuracy: 0.8900\n",
      "Epoch 48/50\n",
      "140/140 [==============================] - 7s 49ms/step - loss: 0.1143 - accuracy: 0.9586 - val_loss: 1.0071 - val_accuracy: 0.8533\n",
      "Epoch 49/50\n",
      "140/140 [==============================] - 7s 49ms/step - loss: 0.1868 - accuracy: 0.9400 - val_loss: 0.6257 - val_accuracy: 0.8767\n",
      "Epoch 50/50\n",
      "140/140 [==============================] - 8s 54ms/step - loss: 0.1024 - accuracy: 0.9643 - val_loss: 0.6263 - val_accuracy: 0.8833\n"
     ]
    },
    {
     "data": {
      "text/plain": [
       "<keras.callbacks.History at 0x1fbcb9028e0>"
      ]
     },
     "execution_count": 14,
     "metadata": {},
     "output_type": "execute_result"
    }
   ],
   "source": [
    "classifier.fit_generator(\n",
    "        generator=x_train,steps_per_epoch = len(x_train),\n",
    "        epochs=50, validation_data=x_test,validation_steps = len(x_test))# No of images in test set"
   ]
  },
  {
   "cell_type": "markdown",
   "metadata": {},
   "source": [
    "### Saving our model"
   ]
  },
  {
   "cell_type": "code",
   "execution_count": 15,
   "metadata": {},
   "outputs": [],
   "source": [
    "# Save the model\n",
    "classifier.save('rockrock.h5')"
   ]
  },
  {
   "cell_type": "code",
   "execution_count": 1,
   "metadata": {},
   "outputs": [
    {
     "ename": "NameError",
     "evalue": "name 'classifier' is not defined",
     "output_type": "error",
     "traceback": [
      "\u001b[1;31m---------------------------------------------------------------------------\u001b[0m",
      "\u001b[1;31mNameError\u001b[0m                                 Traceback (most recent call last)",
      "\u001b[1;32mC:\\Users\\JAYASU~1\\AppData\\Local\\Temp/ipykernel_3032/2071722651.py\u001b[0m in \u001b[0;36m<module>\u001b[1;34m\u001b[0m\n\u001b[1;32m----> 1\u001b[1;33m \u001b[0mmodel_json\u001b[0m \u001b[1;33m=\u001b[0m \u001b[0mclassifier\u001b[0m\u001b[1;33m.\u001b[0m\u001b[0mto_json\u001b[0m\u001b[1;33m(\u001b[0m\u001b[1;33m)\u001b[0m\u001b[1;33m\u001b[0m\u001b[1;33m\u001b[0m\u001b[0m\n\u001b[0m\u001b[0;32m      2\u001b[0m \u001b[1;32mwith\u001b[0m \u001b[0mopen\u001b[0m\u001b[1;33m(\u001b[0m\u001b[1;34m\"model-bw.json\"\u001b[0m\u001b[1;33m,\u001b[0m \u001b[1;34m\"w\"\u001b[0m\u001b[1;33m)\u001b[0m \u001b[1;32mas\u001b[0m \u001b[0mjson_file\u001b[0m\u001b[1;33m:\u001b[0m\u001b[1;33m\u001b[0m\u001b[1;33m\u001b[0m\u001b[0m\n\u001b[0;32m      3\u001b[0m     \u001b[0mjson_file\u001b[0m\u001b[1;33m.\u001b[0m\u001b[0mwrite\u001b[0m\u001b[1;33m(\u001b[0m\u001b[0mmodel_json\u001b[0m\u001b[1;33m)\u001b[0m\u001b[1;33m\u001b[0m\u001b[1;33m\u001b[0m\u001b[0m\n",
      "\u001b[1;31mNameError\u001b[0m: name 'classifier' is not defined"
     ]
    }
   ],
   "source": [
    "model_json = classifier.to_json()\n",
    "with open(\"model-bw.json\", \"w\") as json_file:\n",
    "    json_file.write(model_json)"
   ]
  },
  {
   "cell_type": "code",
   "execution_count": null,
   "metadata": {},
   "outputs": [],
   "source": []
  },
  {
   "cell_type": "markdown",
   "metadata": {},
   "source": [
    "### Predicting our results"
   ]
  },
  {
   "cell_type": "code",
   "execution_count": 5,
   "metadata": {},
   "outputs": [],
   "source": [
    "from tensorflow.keras.models import load_model\n",
    "from keras.preprocessing import image\n",
    "model = load_model(\"rock.h5\") #loading the model for testing"
   ]
  },
  {
   "cell_type": "code",
   "execution_count": 6,
   "metadata": {},
   "outputs": [
    {
     "data": {
      "text/plain": [
       "array([[0., 0., 1., 0., 0.]], dtype=float32)"
      ]
     },
     "execution_count": 6,
     "metadata": {},
     "output_type": "execute_result"
    }
   ],
   "source": [
    "img = image.load_img(r\"C:\\Users\\Jayasurya\\Desktop\\Rock-Classification-Using-CNN-main\\Sample Inputs\\limestone.jpg\",\n",
    "                     grayscale=False,target_size= (64,64))#loading of the image\n",
    "x = image.img_to_array(img)#image to array\n",
    "x = np.expand_dims(x,axis = 0)#changing the shape\n",
    "pred = model.predict(x)#predicting the classes\n",
    "pred"
   ]
  },
  {
   "cell_type": "code",
   "execution_count": 7,
   "metadata": {},
   "outputs": [],
   "source": [
    "import numpy as np\n",
    "pred=np.argmax(pred,axis=1)"
   ]
  },
  {
   "cell_type": "code",
   "execution_count": 8,
   "metadata": {},
   "outputs": [
    {
     "data": {
      "text/plain": [
       "'marble'"
      ]
     },
     "execution_count": 8,
     "metadata": {},
     "output_type": "execute_result"
    }
   ],
   "source": [
    "index=['blue calcite', 'limestone', 'marble', 'olivine', 'red crystal']\n",
    "result=str(index[pred[0]])\n",
    "\n",
    "result"
   ]
  },
  {
   "cell_type": "code",
   "execution_count": 9,
   "metadata": {},
   "outputs": [
    {
     "name": "stdout",
     "output_type": "stream",
     "text": [
      "Collecting jupyterthemes\n",
      "  Downloading jupyterthemes-0.20.0-py2.py3-none-any.whl (7.0 MB)\n",
      "Requirement already satisfied: jupyter-core in c:\\users\\jayasurya\\appdata\\local\\programs\\python\\python39\\lib\\site-packages (from jupyterthemes) (4.9.1)\n",
      "Collecting lesscpy>=0.11.2\n",
      "  Downloading lesscpy-0.15.0-py2.py3-none-any.whl (46 kB)\n",
      "Requirement already satisfied: ipython>=5.4.1 in c:\\users\\jayasurya\\appdata\\local\\programs\\python\\python39\\lib\\site-packages (from jupyterthemes) (7.29.0)\n",
      "Collecting notebook>=5.6.0\n",
      "  Downloading notebook-6.4.5-py3-none-any.whl (9.9 MB)\n",
      "Requirement already satisfied: matplotlib>=1.4.3 in c:\\users\\jayasurya\\appdata\\local\\programs\\python\\python39\\lib\\site-packages (from jupyterthemes) (3.4.3)\n",
      "Requirement already satisfied: pygments in c:\\users\\jayasurya\\appdata\\local\\programs\\python\\python39\\lib\\site-packages (from ipython>=5.4.1->jupyterthemes) (2.10.0)\n",
      "Requirement already satisfied: prompt-toolkit!=3.0.0,!=3.0.1,<3.1.0,>=2.0.0 in c:\\users\\jayasurya\\appdata\\local\\programs\\python\\python39\\lib\\site-packages (from ipython>=5.4.1->jupyterthemes) (3.0.21)\n",
      "Requirement already satisfied: colorama in c:\\users\\jayasurya\\appdata\\local\\programs\\python\\python39\\lib\\site-packages (from ipython>=5.4.1->jupyterthemes) (0.4.4)\n",
      "Requirement already satisfied: pickleshare in c:\\users\\jayasurya\\appdata\\local\\programs\\python\\python39\\lib\\site-packages (from ipython>=5.4.1->jupyterthemes) (0.7.5)\n",
      "Requirement already satisfied: backcall in c:\\users\\jayasurya\\appdata\\local\\programs\\python\\python39\\lib\\site-packages (from ipython>=5.4.1->jupyterthemes) (0.2.0)\n",
      "Requirement already satisfied: matplotlib-inline in c:\\users\\jayasurya\\appdata\\local\\programs\\python\\python39\\lib\\site-packages (from ipython>=5.4.1->jupyterthemes) (0.1.3)\n",
      "Requirement already satisfied: jedi>=0.16 in c:\\users\\jayasurya\\appdata\\local\\programs\\python\\python39\\lib\\site-packages (from ipython>=5.4.1->jupyterthemes) (0.18.0)\n",
      "Requirement already satisfied: traitlets>=4.2 in c:\\users\\jayasurya\\appdata\\local\\programs\\python\\python39\\lib\\site-packages (from ipython>=5.4.1->jupyterthemes) (5.1.1)\n",
      "Requirement already satisfied: decorator in c:\\users\\jayasurya\\appdata\\local\\programs\\python\\python39\\lib\\site-packages (from ipython>=5.4.1->jupyterthemes) (5.1.0)\n",
      "Requirement already satisfied: setuptools>=18.5 in c:\\users\\jayasurya\\appdata\\local\\programs\\python\\python39\\lib\\site-packages (from ipython>=5.4.1->jupyterthemes) (57.4.0)\n",
      "Collecting ply\n",
      "  Downloading ply-3.11-py2.py3-none-any.whl (49 kB)\n",
      "Requirement already satisfied: six in c:\\users\\jayasurya\\appdata\\local\\programs\\python\\python39\\lib\\site-packages (from lesscpy>=0.11.2->jupyterthemes) (1.15.0)\n",
      "Requirement already satisfied: numpy>=1.16 in c:\\users\\jayasurya\\appdata\\local\\programs\\python\\python39\\lib\\site-packages (from matplotlib>=1.4.3->jupyterthemes) (1.19.5)\n",
      "Requirement already satisfied: python-dateutil>=2.7 in c:\\users\\jayasurya\\appdata\\local\\programs\\python\\python39\\lib\\site-packages (from matplotlib>=1.4.3->jupyterthemes) (2.8.2)\n",
      "Requirement already satisfied: kiwisolver>=1.0.1 in c:\\users\\jayasurya\\appdata\\local\\programs\\python\\python39\\lib\\site-packages (from matplotlib>=1.4.3->jupyterthemes) (1.3.2)\n",
      "Requirement already satisfied: cycler>=0.10 in c:\\users\\jayasurya\\appdata\\local\\programs\\python\\python39\\lib\\site-packages (from matplotlib>=1.4.3->jupyterthemes) (0.10.0)\n",
      "Requirement already satisfied: pillow>=6.2.0 in c:\\users\\jayasurya\\appdata\\local\\programs\\python\\python39\\lib\\site-packages (from matplotlib>=1.4.3->jupyterthemes) (8.2.0)\n",
      "Requirement already satisfied: pyparsing>=2.2.1 in c:\\users\\jayasurya\\appdata\\local\\programs\\python\\python39\\lib\\site-packages (from matplotlib>=1.4.3->jupyterthemes) (2.4.7)\n",
      "Collecting Send2Trash>=1.5.0\n",
      "  Downloading Send2Trash-1.8.0-py3-none-any.whl (18 kB)\n",
      "Collecting nbconvert\n",
      "  Downloading nbconvert-6.2.0-py3-none-any.whl (553 kB)\n",
      "Requirement already satisfied: pyzmq>=17 in c:\\users\\jayasurya\\appdata\\local\\programs\\python\\python39\\lib\\site-packages (from notebook>=5.6.0->jupyterthemes) (22.3.0)\n",
      "Collecting prometheus-client\n",
      "  Downloading prometheus_client-0.12.0-py2.py3-none-any.whl (57 kB)\n",
      "Requirement already satisfied: tornado>=6.1 in c:\\users\\jayasurya\\appdata\\local\\programs\\python\\python39\\lib\\site-packages (from notebook>=5.6.0->jupyterthemes) (6.1)\n",
      "Collecting argon2-cffi\n",
      "  Downloading argon2_cffi-21.1.0-cp35-abi3-win_amd64.whl (40 kB)\n",
      "Collecting terminado>=0.8.3\n",
      "  Downloading terminado-0.12.1-py3-none-any.whl (15 kB)\n",
      "Collecting nbformat\n",
      "  Downloading nbformat-5.1.3-py3-none-any.whl (178 kB)\n",
      "Requirement already satisfied: ipython-genutils in c:\\users\\jayasurya\\appdata\\local\\programs\\python\\python39\\lib\\site-packages (from notebook>=5.6.0->jupyterthemes) (0.2.0)\n",
      "Requirement already satisfied: jinja2 in c:\\users\\jayasurya\\appdata\\local\\programs\\python\\python39\\lib\\site-packages (from notebook>=5.6.0->jupyterthemes) (3.0.2)\n",
      "Requirement already satisfied: ipykernel in c:\\users\\jayasurya\\appdata\\local\\programs\\python\\python39\\lib\\site-packages (from notebook>=5.6.0->jupyterthemes) (6.4.2)\n",
      "Requirement already satisfied: jupyter-client>=5.3.4 in c:\\users\\jayasurya\\appdata\\local\\programs\\python\\python39\\lib\\site-packages (from notebook>=5.6.0->jupyterthemes) (7.0.6)\n",
      "Requirement already satisfied: pywin32>=1.0 in c:\\users\\jayasurya\\appdata\\local\\programs\\python\\python39\\lib\\site-packages (from jupyter-core->jupyterthemes) (302)\n",
      "Requirement already satisfied: parso<0.9.0,>=0.8.0 in c:\\users\\jayasurya\\appdata\\local\\programs\\python\\python39\\lib\\site-packages (from jedi>=0.16->ipython>=5.4.1->jupyterthemes) (0.8.2)\n",
      "Requirement already satisfied: nest-asyncio>=1.5 in c:\\users\\jayasurya\\appdata\\local\\programs\\python\\python39\\lib\\site-packages (from jupyter-client>=5.3.4->notebook>=5.6.0->jupyterthemes) (1.5.1)\n",
      "Requirement already satisfied: entrypoints in c:\\users\\jayasurya\\appdata\\local\\programs\\python\\python39\\lib\\site-packages (from jupyter-client>=5.3.4->notebook>=5.6.0->jupyterthemes) (0.3)\n",
      "Requirement already satisfied: wcwidth in c:\\users\\jayasurya\\appdata\\local\\programs\\python\\python39\\lib\\site-packages (from prompt-toolkit!=3.0.0,!=3.0.1,<3.1.0,>=2.0.0->ipython>=5.4.1->jupyterthemes) (0.2.5)\n",
      "Collecting pywinpty>=1.1.0\n",
      "  Downloading pywinpty-1.1.5-cp39-none-win_amd64.whl (1.4 MB)\n",
      "Collecting cffi>=1.0.0\n",
      "  Downloading cffi-1.15.0-cp39-cp39-win_amd64.whl (180 kB)\n",
      "Requirement already satisfied: debugpy<2.0,>=1.0.0 in c:\\users\\jayasurya\\appdata\\local\\programs\\python\\python39\\lib\\site-packages (from ipykernel->notebook>=5.6.0->jupyterthemes) (1.5.1)\n",
      "Requirement already satisfied: MarkupSafe>=2.0 in c:\\users\\jayasurya\\appdata\\local\\programs\\python\\python39\\lib\\site-packages (from jinja2->notebook>=5.6.0->jupyterthemes) (2.0.1)\n",
      "Collecting mistune<2,>=0.8.1\n",
      "  Downloading mistune-0.8.4-py2.py3-none-any.whl (16 kB)\n",
      "Collecting pandocfilters>=1.4.1\n",
      "  Downloading pandocfilters-1.5.0-py2.py3-none-any.whl (8.7 kB)\n",
      "Collecting jupyterlab-pygments\n",
      "  Downloading jupyterlab_pygments-0.1.2-py2.py3-none-any.whl (4.6 kB)\n",
      "Collecting bleach\n",
      "  Downloading bleach-4.1.0-py2.py3-none-any.whl (157 kB)\n",
      "Collecting testpath\n",
      "  Downloading testpath-0.5.0-py3-none-any.whl (84 kB)\n",
      "Collecting nbclient<0.6.0,>=0.5.0\n",
      "  Downloading nbclient-0.5.4-py3-none-any.whl (66 kB)\n",
      "Collecting defusedxml\n",
      "  Downloading defusedxml-0.7.1-py2.py3-none-any.whl (25 kB)\n",
      "Collecting jsonschema!=2.5.0,>=2.4\n",
      "  Downloading jsonschema-4.1.2-py3-none-any.whl (69 kB)\n",
      "Collecting pycparser\n",
      "  Downloading pycparser-2.20-py2.py3-none-any.whl (112 kB)\n",
      "Collecting attrs>=17.4.0\n",
      "  Downloading attrs-21.2.0-py2.py3-none-any.whl (53 kB)\n",
      "Collecting pyrsistent!=0.17.0,!=0.17.1,!=0.17.2,>=0.14.0\n",
      "  Downloading pyrsistent-0.18.0-cp39-cp39-win_amd64.whl (62 kB)\n",
      "Collecting webencodings\n",
      "  Downloading webencodings-0.5.1-py2.py3-none-any.whl (11 kB)\n",
      "Collecting packaging\n",
      "  Downloading packaging-21.2-py3-none-any.whl (40 kB)\n",
      "Installing collected packages: pyrsistent, attrs, jsonschema, webencodings, pycparser, packaging, nbformat, testpath, pywinpty, pandocfilters, nbclient, mistune, jupyterlab-pygments, defusedxml, cffi, bleach, terminado, Send2Trash, prometheus-client, ply, nbconvert, argon2-cffi, notebook, lesscpy, jupyterthemes\n",
      "Successfully installed Send2Trash-1.8.0 argon2-cffi-21.1.0 attrs-21.2.0 bleach-4.1.0 cffi-1.15.0 defusedxml-0.7.1 jsonschema-4.1.2 jupyterlab-pygments-0.1.2 jupyterthemes-0.20.0 lesscpy-0.15.0 mistune-0.8.4 nbclient-0.5.4 nbconvert-6.2.0 nbformat-5.1.3 notebook-6.4.5 packaging-21.2 pandocfilters-1.5.0 ply-3.11 prometheus-client-0.12.0 pycparser-2.20 pyrsistent-0.18.0 pywinpty-1.1.5 terminado-0.12.1 testpath-0.5.0 webencodings-0.5.1\n"
     ]
    }
   ],
   "source": [
    "!pip install jupyterthemes"
   ]
  },
  {
   "cell_type": "code",
   "execution_count": 3,
   "metadata": {},
   "outputs": [],
   "source": [
    "!jt -t  monokai"
   ]
  },
  {
   "cell_type": "code",
   "execution_count": null,
   "metadata": {},
   "outputs": [],
   "source": [
    "!jt -t "
   ]
  },
  {
   "cell_type": "code",
   "execution_count": null,
   "metadata": {},
   "outputs": [],
   "source": []
  }
 ],
 "metadata": {
  "interpreter": {
   "hash": "83bfc292970ea0e59a5066bdf22c8d029e62b1854745cb76f82262d85db88ac2"
  },
  "kernelspec": {
   "display_name": "Python 3.9.7 64-bit",
   "name": "python3"
  },
  "language_info": {
   "codemirror_mode": {
    "name": "ipython",
    "version": 3
   },
   "file_extension": ".py",
   "mimetype": "text/x-python",
   "name": "python",
   "nbconvert_exporter": "python",
   "pygments_lexer": "ipython3",
   "version": "3.9.7"
  }
 },
 "nbformat": 4,
 "nbformat_minor": 4
}
