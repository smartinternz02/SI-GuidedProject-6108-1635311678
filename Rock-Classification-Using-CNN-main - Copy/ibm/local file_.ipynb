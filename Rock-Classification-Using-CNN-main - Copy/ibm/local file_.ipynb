{
 "cells": [
  {
   "cell_type": "code",
   "execution_count": 2,
   "id": "606ae283",
   "metadata": {},
   "outputs": [
    {
     "name": "stdout",
     "output_type": "stream",
     "text": [
      "Requirement already satisfied: watson-machine-learning-client in c:\\users\\jayasurya\\anaconda3\\lib\\site-packages (1.0.391)\n",
      "Requirement already satisfied: lomond in c:\\users\\jayasurya\\anaconda3\\lib\\site-packages (from watson-machine-learning-client) (0.3.3)\n",
      "Requirement already satisfied: tqdm in c:\\users\\jayasurya\\anaconda3\\lib\\site-packages (from watson-machine-learning-client) (4.62.3)\n",
      "Requirement already satisfied: urllib3 in c:\\users\\jayasurya\\anaconda3\\lib\\site-packages (from watson-machine-learning-client) (1.26.7)\n",
      "Requirement already satisfied: tabulate in c:\\users\\jayasurya\\anaconda3\\lib\\site-packages (from watson-machine-learning-client) (0.8.9)\n",
      "Requirement already satisfied: ibm-cos-sdk in c:\\users\\jayasurya\\anaconda3\\lib\\site-packages (from watson-machine-learning-client) (2.7.0)\n",
      "Requirement already satisfied: pandas in c:\\users\\jayasurya\\anaconda3\\lib\\site-packages (from watson-machine-learning-client) (1.2.5)\n",
      "Requirement already satisfied: boto3 in c:\\users\\jayasurya\\anaconda3\\lib\\site-packages (from watson-machine-learning-client) (1.20.11)\n",
      "Requirement already satisfied: certifi in c:\\users\\jayasurya\\anaconda3\\lib\\site-packages (from watson-machine-learning-client) (2021.10.8)\n",
      "Requirement already satisfied: requests in c:\\users\\jayasurya\\anaconda3\\lib\\site-packages (from watson-machine-learning-client) (2.26.0)\n",
      "Requirement already satisfied: jmespath<1.0.0,>=0.7.1 in c:\\users\\jayasurya\\anaconda3\\lib\\site-packages (from boto3->watson-machine-learning-client) (0.10.0)\n",
      "Requirement already satisfied: botocore<1.24.0,>=1.23.11 in c:\\users\\jayasurya\\anaconda3\\lib\\site-packages (from boto3->watson-machine-learning-client) (1.23.11)\n",
      "Requirement already satisfied: s3transfer<0.6.0,>=0.5.0 in c:\\users\\jayasurya\\anaconda3\\lib\\site-packages (from boto3->watson-machine-learning-client) (0.5.0)\n",
      "Requirement already satisfied: python-dateutil<3.0.0,>=2.1 in c:\\users\\jayasurya\\anaconda3\\lib\\site-packages (from botocore<1.24.0,>=1.23.11->boto3->watson-machine-learning-client) (2.8.2)\n",
      "Requirement already satisfied: six>=1.5 in c:\\users\\jayasurya\\anaconda3\\lib\\site-packages (from python-dateutil<3.0.0,>=2.1->botocore<1.24.0,>=1.23.11->boto3->watson-machine-learning-client) (1.16.0)\n",
      "Requirement already satisfied: ibm-cos-sdk-core==2.7.0 in c:\\users\\jayasurya\\anaconda3\\lib\\site-packages (from ibm-cos-sdk->watson-machine-learning-client) (2.7.0)\n",
      "Requirement already satisfied: ibm-cos-sdk-s3transfer==2.7.0 in c:\\users\\jayasurya\\anaconda3\\lib\\site-packages (from ibm-cos-sdk->watson-machine-learning-client) (2.7.0)\n",
      "Requirement already satisfied: docutils<0.16,>=0.10 in c:\\users\\jayasurya\\anaconda3\\lib\\site-packages (from ibm-cos-sdk-core==2.7.0->ibm-cos-sdk->watson-machine-learning-client) (0.15.2)\n",
      "Requirement already satisfied: idna<4,>=2.5 in c:\\users\\jayasurya\\anaconda3\\lib\\site-packages (from requests->watson-machine-learning-client) (3.2)\n",
      "Requirement already satisfied: charset-normalizer~=2.0.0 in c:\\users\\jayasurya\\anaconda3\\lib\\site-packages (from requests->watson-machine-learning-client) (2.0.4)\n",
      "Requirement already satisfied: numpy>=1.16.5 in c:\\users\\jayasurya\\anaconda3\\lib\\site-packages (from pandas->watson-machine-learning-client) (1.20.3)\n",
      "Requirement already satisfied: pytz>=2017.3 in c:\\users\\jayasurya\\anaconda3\\lib\\site-packages (from pandas->watson-machine-learning-client) (2021.3)\n",
      "Requirement already satisfied: colorama in c:\\users\\jayasurya\\anaconda3\\lib\\site-packages (from tqdm->watson-machine-learning-client) (0.4.4)\n"
     ]
    }
   ],
   "source": [
    "!pip install watson-machine-learning-client\n"
   ]
  },
  {
   "cell_type": "code",
   "execution_count": 4,
   "id": "2faceda3",
   "metadata": {},
   "outputs": [],
   "source": [
    "from ibm_watson_machine_learning import APIClient\n",
    "wml_credentials={\n",
    "    \"url\":\"https://us-south.ml.cloud.ibm.com\",\n",
    "    \"apikey\":\"9Glbz3eQ6TvhEyvgRcFDOId8btFkXaGFza8PuPNjbWRe\"\n",
    "}\n",
    "client=APIClient(wml_credentials)"
   ]
  },
  {
   "cell_type": "code",
   "execution_count": 5,
   "id": "343c6e2a",
   "metadata": {},
   "outputs": [],
   "source": [
    "client=APIClient(wml_credentials)"
   ]
  },
  {
   "cell_type": "code",
   "execution_count": 6,
   "id": "2fafb055",
   "metadata": {},
   "outputs": [],
   "source": [
    "def guid_from_space_name(client,space_name):\n",
    "    space=client.spaces.get_details()\n",
    "    \n",
    "    return (next(item for item in space['resources'] if item['entity']['name']==space_name)['metadata']['id'])"
   ]
  },
  {
   "cell_type": "code",
   "execution_count": 7,
   "id": "cf519ea1",
   "metadata": {},
   "outputs": [
    {
     "name": "stdout",
     "output_type": "stream",
     "text": [
      "space IDda50a1da-e68e-4b09-ab5f-69c292ddde74\n"
     ]
    }
   ],
   "source": [
    "space_uid=guid_from_space_name(client,'rock_classification')\n",
    "\n",
    "print(\"space ID\"+space_uid)\n"
   ]
  },
  {
   "cell_type": "code",
   "execution_count": 8,
   "id": "f22cb483",
   "metadata": {},
   "outputs": [
    {
     "data": {
      "text/plain": [
       "'SUCCESS'"
      ]
     },
     "execution_count": 8,
     "metadata": {},
     "output_type": "execute_result"
    }
   ],
   "source": [
    "client .set.default_space(space_uid)"
   ]
  },
  {
   "cell_type": "code",
   "execution_count": 9,
   "id": "5a5f6a88",
   "metadata": {},
   "outputs": [
    {
     "data": {
      "text/plain": [
       "'65e171d7-72d1-55d9-8ebb-f813d620c9bb'"
      ]
     },
     "execution_count": 9,
     "metadata": {},
     "output_type": "execute_result"
    }
   ],
   "source": [
    "software_spec_uid=client.software_specifications.get_uid_by_name(\"tensorflow_2.4-py3.7\")\n",
    "software_spec_uid"
   ]
  },
  {
   "cell_type": "code",
   "execution_count": 12,
   "id": "12fa07ba",
   "metadata": {},
   "outputs": [
    {
     "name": "stdout",
     "output_type": "stream",
     "text": [
      "Successfully saved model content to file: 'rock_mod.tar.gz'\n"
     ]
    },
    {
     "data": {
      "text/plain": [
       "'C:\\\\Users\\\\Jayasurya\\\\Desktop/rock_mod.tar.gz'"
      ]
     },
     "execution_count": 12,
     "metadata": {},
     "output_type": "execute_result"
    }
   ],
   "source": [
    "client.repository.download(\"08a42521-4d02-439f-ae01-9a1d58147319\",'rock_mod.tar.gz')"
   ]
  },
  {
   "cell_type": "code",
   "execution_count": null,
   "id": "994e7028",
   "metadata": {},
   "outputs": [],
   "source": []
  }
 ],
 "metadata": {
  "kernelspec": {
   "display_name": "Python 3 (ipykernel)",
   "language": "python",
   "name": "python3"
  },
  "language_info": {
   "codemirror_mode": {
    "name": "ipython",
    "version": 3
   },
   "file_extension": ".py",
   "mimetype": "text/x-python",
   "name": "python",
   "nbconvert_exporter": "python",
   "pygments_lexer": "ipython3",
   "version": "3.9.7"
  }
 },
 "nbformat": 4,
 "nbformat_minor": 5
}
